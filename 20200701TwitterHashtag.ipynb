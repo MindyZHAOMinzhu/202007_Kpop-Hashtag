{
 "cells": [
  {
   "cell_type": "code",
   "execution_count": null,
   "metadata": {},
   "outputs": [],
   "source": [
    "# ### 因为我的environment有点问题，所以在import module的时候在前面加了这个，正常情况下两句是不需要的\n",
    "# import sys\n",
    "# sys.path.append('/usr/local/lib/python3.7/site-packages') \n",
    "\n",
    "import tweepy\n",
    "import csv\n",
    "import pandas as pd\n",
    "####input your credentials here\n",
    "consumer_key='jvDZvBthxA7JInc5yzME18NGZ'\n",
    "consumer_secret='sYZBUkrd7XPUsIEAq2lkO9IJfadQkSp1o25bkZPsdOLIUou3AI'\n",
    "access_token='1278156881429622784-w5SBicUNKAZejMIbnEpVmOuxwqjENR'\n",
    "access_token_secret='tdFfg0DjKS7BpNKFu4rtSX5JRvRQfMAs3ySWeGJ6arrSi'\n",
    "\n",
    "auth = tweepy.OAuthHandler(consumer_key, consumer_secret)\n",
    "auth.set_access_token(access_token, access_token_secret)\n",
    "api = tweepy.API(auth,wait_on_rate_limit=True)\n",
    "#####United Airlines\n",
    "# Open/Create a file to append data\n",
    "csvFile = open('#AllLivesMatter_allLanguage_0629.csv', 'a')\n",
    "#Use csv Writer\n",
    "csvWriter = csv.writer(csvFile)\n",
    "\n",
    "for tweet in tweepy.Cursor(api.search,q=\"#AllLivesMatter\",\n",
    "#                            count = 100,\n",
    "#                            lang=\"en\",\n",
    "                           since=\"2020-06-29\",\n",
    "                          until = \"2020-06-30\").items():\n",
    "#     print (tweet.created_at, tweet.text)\n",
    "    csvWriter.writerow([tweet.created_at, tweet.text.encode('utf-8')])\n",
    "    \n"
   ]
  },
  {
   "cell_type": "code",
   "execution_count": null,
   "metadata": {},
   "outputs": [],
   "source": []
  }
 ],
 "metadata": {
  "kernelspec": {
   "display_name": "Python 3",
   "language": "python",
   "name": "python3"
  },
  "language_info": {
   "codemirror_mode": {
    "name": "ipython",
    "version": 3
   },
   "file_extension": ".py",
   "mimetype": "text/x-python",
   "name": "python",
   "nbconvert_exporter": "python",
   "pygments_lexer": "ipython3",
   "version": "3.7.4"
  }
 },
 "nbformat": 4,
 "nbformat_minor": 2
}
